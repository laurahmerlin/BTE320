{
  "nbformat": 4,
  "nbformat_minor": 0,
  "metadata": {
    "colab": {
      "provenance": [],
      "authorship_tag": "ABX9TyN91hgHeHD6IEiuX4kElKJ0",
      "include_colab_link": true
    },
    "kernelspec": {
      "name": "python3",
      "display_name": "Python 3"
    },
    "language_info": {
      "name": "python"
    }
  },
  "cells": [
    {
      "cell_type": "markdown",
      "metadata": {
        "id": "view-in-github",
        "colab_type": "text"
      },
      "source": [
        "<a href=\"https://colab.research.google.com/github/laurahmerlin/BTE320/blob/main/InClassAssignments.ipynb\" target=\"_parent\"><img src=\"https://colab.research.google.com/assets/colab-badge.svg\" alt=\"Open In Colab\"/></a>"
      ]
    },
    {
      "cell_type": "code",
      "execution_count": null,
      "metadata": {
        "colab": {
          "base_uri": "https://localhost:8080/"
        },
        "id": "dhzusRIlxcCh",
        "outputId": "967941f3-60bd-4e13-bedc-be36a1eb279f"
      },
      "outputs": [
        {
          "output_type": "stream",
          "name": "stdout",
          "text": [
            "251.2\n"
          ]
        }
      ],
      "source": [
        "h = 3\n",
        "r = 5\n",
        "pi = 3.14\n",
        "\n",
        "area = (2 * r * h * pi ) + (2 * pi * r ** 2)\n",
        "print (area)\n"
      ]
    },
    {
      "cell_type": "code",
      "source": [
        "import random\n",
        "play = input(\"Do you want to play the game?: \")\n",
        "\n",
        "\n",
        "while play == \"Yes\":\n",
        "\n",
        "  player1 = input(\"Choose: Rock, Paper or Scissors \")\n",
        "  player2 = random.choice([\"Rock\", \"Paper\", \"Scissors\"])\n",
        "\n",
        "  print(f\"Computer chose: {player2}\")\n",
        "\n",
        "  if player1 == player2:\n",
        "    print(\"Draw\")\n",
        "  elif (player1 == \"Paper\" and player2 == \"Rock\" ) or (player1 == \"Rock\" and player2 == \"Scissors\") or (player1 == \"Scissors\" and player2 == \"Paper\"):\n",
        "    print(\"Player1 Won!\")\n",
        "  else:\n",
        "    print(\"Computer wins\")\n",
        "\n",
        "  play = input(\"Do you want to play again? \")"
      ],
      "metadata": {
        "id": "t1zHLNEsy7eU",
        "colab": {
          "base_uri": "https://localhost:8080/"
        },
        "outputId": "88643715-d3fa-4ac5-8146-fcc820fd8c35"
      },
      "execution_count": null,
      "outputs": [
        {
          "name": "stdout",
          "output_type": "stream",
          "text": [
            "Do you want to play the game?: Yes\n",
            "Choose: Rock, Paper or Scissors rock\n",
            "Computer chose: Paper\n",
            "Computer wins\n",
            "Do you want to play again? no\n"
          ]
        }
      ]
    },
    {
      "cell_type": "code",
      "source": [
        "input1 = float(input(\"Please select a number: \"))\n",
        "input2 = float(input(\"Please select a second number: \"))\n",
        "symbols = input(\"Select the symbol for the calculation: * , /, +, **, - : \")\n",
        "\n",
        "if symbols == \"*\":\n",
        "  calculation = input1 * input2\n",
        "elif symbols == \"/\":\n",
        "  calculation = input1 / input2\n",
        "elif symbols == \"+\":\n",
        "  calculation = input1 + input2\n",
        "elif symbols == \"**\":\n",
        "  calculation = input1 ** input2\n",
        "else:\n",
        "  calculation = input1 - input2\n",
        "\n",
        "print(calculation)"
      ],
      "metadata": {
        "colab": {
          "base_uri": "https://localhost:8080/"
        },
        "id": "FacyMrVO8qWU",
        "outputId": "a835a693-5625-496c-fb5d-8a1c87dca3ff"
      },
      "execution_count": null,
      "outputs": [
        {
          "output_type": "stream",
          "name": "stdout",
          "text": [
            "Please select a number: 8\n",
            "Please select a second number: 3\n",
            "Select the symbol for the calculation: * , /, +, **, - : +\n",
            "11.0\n"
          ]
        }
      ]
    },
    {
      "cell_type": "code",
      "source": [
        "\n",
        "fee = 5\n",
        "for t in range(1, 9):\n",
        "  each = 2.5 * t\n",
        "  charge = fee + each\n",
        "  if charge < 10.0:\n",
        "    charge = 10.0\n",
        "  elif charge > 20.0:\n",
        "    charge = 20.0\n",
        "  print(t, charge)"
      ],
      "metadata": {
        "id": "jrpHysN29J7E",
        "colab": {
          "base_uri": "https://localhost:8080/"
        },
        "outputId": "5fb0abcc-2128-4e56-dcf1-1e2147c03e27"
      },
      "execution_count": null,
      "outputs": [
        {
          "output_type": "stream",
          "name": "stdout",
          "text": [
            "1 10.0\n",
            "2 10.0\n",
            "3 12.5\n",
            "4 15.0\n",
            "5 17.5\n",
            "6 20.0\n",
            "7 20.0\n",
            "8 20.0\n"
          ]
        }
      ]
    },
    {
      "cell_type": "code",
      "source": [
        "ticket = 10.0\n",
        "attendees = 20.0\n",
        "fixed_cost = 200.0\n",
        "\n",
        "for i in range(0, 201, 25):\n",
        " #i is the adverstising cost\n",
        "  profit = ticket * (attendees + 2 * round(i ** 0.5))- fixed_cost - i\n",
        "  print(i, profit)"
      ],
      "metadata": {
        "colab": {
          "base_uri": "https://localhost:8080/"
        },
        "id": "_Y4VDYFOKhW9",
        "outputId": "a2b47b05-5dcc-4a96-b758-bfa848d6bbd3"
      },
      "execution_count": null,
      "outputs": [
        {
          "output_type": "stream",
          "name": "stdout",
          "text": [
            "0 0.0\n",
            "25 75.0\n",
            "50 90.0\n",
            "75 105.0\n",
            "100 100.0\n",
            "125 95.0\n",
            "150 90.0\n",
            "175 85.0\n",
            "200 80.0\n"
          ]
        }
      ]
    },
    {
      "cell_type": "code",
      "source": [
        "#creates a list\n",
        "#user will give the inputs\n",
        "\n",
        "l = []\n",
        "\n",
        "user_input = int(input(\"Please give a int: \"))\n",
        "\n",
        "while user_input != 0:\n",
        "  l.append(user_input)\n",
        "\n",
        "  print(l)\n",
        "  user_input = int(input(\"Please give a int: \"))\n",
        "print(l)\n"
      ],
      "metadata": {
        "colab": {
          "base_uri": "https://localhost:8080/"
        },
        "id": "wUYMBIadVn2h",
        "outputId": "be632e60-386a-460b-ac6b-aa548d22ad65"
      },
      "execution_count": null,
      "outputs": [
        {
          "output_type": "stream",
          "name": "stdout",
          "text": [
            "Please give a int: 6\n",
            "[6]\n",
            "Please give a int: 9\n",
            "[6, 9]\n",
            "Please give a int: 0\n",
            "[6, 9]\n"
          ]
        }
      ]
    },
    {
      "cell_type": "code",
      "source": [
        "months = {}\n",
        "\n",
        "names = [\"jan\", \"feb\", \"mar\", \"apr\", \"may\", \"jun\", \"jul\", \"aug\", \"sep\", \"oct\", \"nov\", \"dec\"]\n",
        "numbers = [1, 2, 3, 4, 5, 6, 7, 8, 9, 10, 11, 12]\n",
        "\n",
        "#populates the dic months like {1: \"jan\"} etc\n",
        "\n",
        "for i in range(len(numbers)):\n",
        "  months[numbers[i]] = names[i]\n",
        "print(months)\n",
        "\n",
        "\n"
      ],
      "metadata": {
        "colab": {
          "base_uri": "https://localhost:8080/"
        },
        "id": "l8I6yCxfFdZ8",
        "outputId": "33fd770d-d793-45df-9fca-fcadb784132a"
      },
      "execution_count": null,
      "outputs": [
        {
          "output_type": "stream",
          "name": "stdout",
          "text": [
            "{1: 'jan', 2: 'feb', 3: 'mar', 4: 'apr', 5: 'may', 6: 'jun', 7: 'jul', 8: 'aug', 9: 'sep', 10: 'oct', 11: 'nov', 12: 'dec'}\n"
          ]
        }
      ]
    },
    {
      "cell_type": "code",
      "source": [
        "\n",
        "months = 0\n",
        "portion_down_payment = 0.25\n",
        "current_savings = 0\n",
        "rate = 0.04\n",
        "\n",
        "\n",
        "annual_salary = int(input(\"What is the annual salary: \"))\n",
        "portion_saved = float(input(\"What is the portion saved: \"))\n",
        "total_cost = int(input(\"What is the total cost: \"))\n",
        "semi_annual_raise = float(input(\"What is your semi annual raise: \"))\n",
        "\n",
        "\n",
        "down_payment = total_cost * portion_down_payment\n",
        "\n",
        "while current_savings < down_payment:\n",
        "  investment_return = (current_savings * rate) / 12\n",
        "  current_savings += ((annual_salary/ 12) * portion_saved) + investment_return\n",
        "  months +=1\n",
        "\n",
        "  if months % 6 == 0:\n",
        "      annual_salary += annual_salary * semi_annual_raise\n",
        "\n",
        "\n",
        "print(f\"Months: {months}\")\n"
      ],
      "metadata": {
        "id": "t5E1vf6JYu9P",
        "colab": {
          "base_uri": "https://localhost:8080/"
        },
        "outputId": "d9a7eb90-6512-411e-84c7-15ad5444bd5b"
      },
      "execution_count": null,
      "outputs": [
        {
          "output_type": "stream",
          "name": "stdout",
          "text": [
            "What is the annual salary: 120000\n",
            "What is the portion saved: .05\n",
            "What is the total cost: 500000\n",
            "What is your semi annual raise: .03\n",
            "Months: 142\n"
          ]
        }
      ]
    },
    {
      "cell_type": "code",
      "source": [
        "# Assignment 3 from PDF\n",
        "\n",
        "low = 1000\n",
        "high = 10000\n",
        "def range_check(number, low, high):\n",
        "    if low <= number <= high:\n",
        "        print(f\"{number} is in the range [{low}, {high}]\")\n",
        "    else:\n",
        "        print(f\"{number} is not in the range [{low}, {high}]\")\n",
        "\n",
        "number = int(input(\"Give an integer: \"))\n",
        "range_check(number, low, high)\n",
        "\n",
        "\n",
        "\n"
      ],
      "metadata": {
        "colab": {
          "base_uri": "https://localhost:8080/"
        },
        "id": "IjknvuZwVxfd",
        "outputId": "6d73d7b8-3e10-4b99-f5a3-7b32ccee2f80"
      },
      "execution_count": 2,
      "outputs": [
        {
          "output_type": "stream",
          "name": "stdout",
          "text": [
            "Give an integer: 100\n",
            "100 is not in the range [1000, 10000]\n"
          ]
        }
      ]
    },
    {
      "cell_type": "code",
      "source": [
        "# Parking Garage\n",
        "\n",
        "def calcFee(hours, decimals=2):\n",
        "  fee = (hours * 2.5) + 5\n",
        "  fee = round(fee, decimals)\n",
        "  return fee\n",
        "\n",
        "def displayFee(fee):\n",
        "    print(f\"The parking fee is: {fee}\")\n",
        "\n",
        "hours = float(input(\"Enter Hours Parked: \"))\n",
        "fee = calcFee(hours)\n",
        "displayFee(fee)\n"
      ],
      "metadata": {
        "colab": {
          "base_uri": "https://localhost:8080/"
        },
        "id": "zHrWOMBwMbqV",
        "outputId": "c89ecdfb-31d3-4548-bb47-00e33cb76938"
      },
      "execution_count": null,
      "outputs": [
        {
          "output_type": "stream",
          "name": "stdout",
          "text": [
            "Enter Hours Parked: 4\n",
            "The parking fee is: 15.0 \n"
          ]
        }
      ]
    },
    {
      "cell_type": "code",
      "source": [
        "# recurssive function takes as inputs strings and reverses it ex: hello should return olleh\n",
        "\n",
        "def reverseString(word):\n",
        "  if len(word) == 1:\n",
        "    return word\n",
        "  else:\n",
        "    return  word[-1] + reverseString(word[:-1]) # or reverseString(word[1:]) + word[0]\n",
        "\n",
        "word = input(\"Give a word: \")\n",
        "print(reverseString(word))"
      ],
      "metadata": {
        "colab": {
          "base_uri": "https://localhost:8080/"
        },
        "id": "1TYaaruqUi1V",
        "outputId": "931169e8-ef30-46f3-97b5-48162f6b7dc6"
      },
      "execution_count": 26,
      "outputs": [
        {
          "output_type": "stream",
          "name": "stdout",
          "text": [
            "Give a word: hellp\n",
            "plleh\n"
          ]
        }
      ]
    }
  ]
}