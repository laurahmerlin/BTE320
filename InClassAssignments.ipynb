{
  "nbformat": 4,
  "nbformat_minor": 0,
  "metadata": {
    "colab": {
      "provenance": [],
      "authorship_tag": "ABX9TyPClrYkZYTK+NE5quR1b5vt",
      "include_colab_link": true
    },
    "kernelspec": {
      "name": "python3",
      "display_name": "Python 3"
    },
    "language_info": {
      "name": "python"
    }
  },
  "cells": [
    {
      "cell_type": "markdown",
      "metadata": {
        "id": "view-in-github",
        "colab_type": "text"
      },
      "source": [
        "<a href=\"https://colab.research.google.com/github/laurahmerlin/BTE320/blob/main/InClassAssignments.ipynb\" target=\"_parent\"><img src=\"https://colab.research.google.com/assets/colab-badge.svg\" alt=\"Open In Colab\"/></a>"
      ]
    },
    {
      "cell_type": "code",
      "source": [
        "import random\n",
        "play = input(\"Do you want to play the game?: \")\n",
        "\n",
        "\n",
        "while play == \"Yes\":\n",
        "\n",
        "  player1 = input(\"Choose: Rock, Paper or Scissors \")\n",
        "  player2 = random.choice([\"Rock\", \"Paper\", \"Scissors\"])\n",
        "\n",
        "  print(f\"Computer chose: {player2}\")\n",
        "\n",
        "  if player1 == player2:\n",
        "    print(\"Draw\")\n",
        "  elif (player1 == \"Paper\" and player2 == \"Rock\" ) or (player1 == \"Rock\" and player2 == \"Scissors\") or (player1 == \"Scissors\" and player2 == \"Paper\"):\n",
        "    print(\"Player1 Won!\")\n",
        "  else:\n",
        "    print(\"Computer wins\")\n",
        "\n",
        "  play = input(\"Do you want to play again? \")\n",
        "\n",
        "\n",
        "\n",
        "\n"
      ],
      "metadata": {
        "id": "t1zHLNEsy7eU",
        "colab": {
          "base_uri": "https://localhost:8080/"
        },
        "outputId": "f0d6f29a-19fb-404f-ee72-e25c66151b7f"
      },
      "execution_count": null,
      "outputs": [
        {
          "output_type": "stream",
          "name": "stdout",
          "text": [
            "Do you want to play the game?: Yes\n",
            "Choose: Rock, Paper or Scissors: Paper\n",
            "Computer chose: Paper\n",
            "Draw\n"
          ]
        }
      ]
    },
    {
      "cell_type": "code",
      "execution_count": null,
      "metadata": {
        "colab": {
          "base_uri": "https://localhost:8080/"
        },
        "id": "dhzusRIlxcCh",
        "outputId": "967941f3-60bd-4e13-bedc-be36a1eb279f"
      },
      "outputs": [
        {
          "output_type": "stream",
          "name": "stdout",
          "text": [
            "251.2\n"
          ]
        }
      ],
      "source": [
        "h = 3\n",
        "r = 5\n",
        "pi = 3.14\n",
        "\n",
        "area = (2 * r * h * pi ) + (2 * pi * r ** 2)\n",
        "print (area)\n"
      ]
    },
    {
      "cell_type": "code",
      "source": [
        "input1 = float(input(\"Please select a number: \"))\n",
        "input2 = float(input(\"Please select a second number: \"))\n",
        "symbols = input(\"Select the symbol for the calculation: * , /, +, **, - : \")\n",
        "\n",
        "if symbols == \"*\":\n",
        "  calculation = input1 * input2\n",
        "elif symbols == \"/\":\n",
        "  calculation = input1 / input2\n",
        "elif symbols == \"+\":\n",
        "  calculation = input1 + input2\n",
        "elif symbols == \"**\":\n",
        "  calculation = input1 ** input2\n",
        "else:\n",
        "  calculation = input1 - input2\n",
        "\n",
        "print(calculation)\n",
        "\n",
        "\n",
        "\n",
        "\n"
      ],
      "metadata": {
        "colab": {
          "base_uri": "https://localhost:8080/"
        },
        "id": "FacyMrVO8qWU",
        "outputId": "a835a693-5625-496c-fb5d-8a1c87dca3ff"
      },
      "execution_count": null,
      "outputs": [
        {
          "output_type": "stream",
          "name": "stdout",
          "text": [
            "Please select a number: 8\n",
            "Please select a second number: 3\n",
            "Select the symbol for the calculation: * , /, +, **, - : +\n",
            "11.0\n"
          ]
        }
      ]
    },
    {
      "cell_type": "code",
      "source": [],
      "metadata": {
        "id": "jrpHysN29J7E"
      },
      "execution_count": null,
      "outputs": []
    }
  ]
}