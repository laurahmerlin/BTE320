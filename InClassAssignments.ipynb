{
  "nbformat": 4,
  "nbformat_minor": 0,
  "metadata": {
    "colab": {
      "provenance": [],
      "authorship_tag": "ABX9TyMq0Vo/ClWiRQudln2QCG49",
      "include_colab_link": true
    },
    "kernelspec": {
      "name": "python3",
      "display_name": "Python 3"
    },
    "language_info": {
      "name": "python"
    }
  },
  "cells": [
    {
      "cell_type": "markdown",
      "metadata": {
        "id": "view-in-github",
        "colab_type": "text"
      },
      "source": [
        "<a href=\"https://colab.research.google.com/github/laurahmerlin/BTE320/blob/main/InClassAssignments.ipynb\" target=\"_parent\"><img src=\"https://colab.research.google.com/assets/colab-badge.svg\" alt=\"Open In Colab\"/></a>"
      ]
    },
    {
      "cell_type": "code",
      "execution_count": null,
      "metadata": {
        "colab": {
          "base_uri": "https://localhost:8080/"
        },
        "id": "dhzusRIlxcCh",
        "outputId": "967941f3-60bd-4e13-bedc-be36a1eb279f"
      },
      "outputs": [
        {
          "output_type": "stream",
          "name": "stdout",
          "text": [
            "251.2\n"
          ]
        }
      ],
      "source": [
        "h = 3\n",
        "r = 5\n",
        "pi = 3.14\n",
        "\n",
        "area = (2 * r * h * pi ) + (2 * pi * r ** 2)\n",
        "print (area)\n"
      ]
    },
    {
      "cell_type": "code",
      "source": [
        "import random\n",
        "play = input(\"Do you want to play the game?: \")\n",
        "\n",
        "\n",
        "while play == \"Yes\":\n",
        "\n",
        "  player1 = input(\"Choose: Rock, Paper or Scissors \")\n",
        "  player2 = random.choice([\"Rock\", \"Paper\", \"Scissors\"])\n",
        "\n",
        "  print(f\"Computer chose: {player2}\")\n",
        "\n",
        "  if player1 == player2:\n",
        "    print(\"Draw\")\n",
        "  elif (player1 == \"Paper\" and player2 == \"Rock\" ) or (player1 == \"Rock\" and player2 == \"Scissors\") or (player1 == \"Scissors\" and player2 == \"Paper\"):\n",
        "    print(\"Player1 Won!\")\n",
        "  else:\n",
        "    print(\"Computer wins\")\n",
        "\n",
        "  play = input(\"Do you want to play again? \")"
      ],
      "metadata": {
        "id": "t1zHLNEsy7eU",
        "colab": {
          "base_uri": "https://localhost:8080/"
        },
        "outputId": "88643715-d3fa-4ac5-8146-fcc820fd8c35"
      },
      "execution_count": null,
      "outputs": [
        {
          "name": "stdout",
          "output_type": "stream",
          "text": [
            "Do you want to play the game?: Yes\n",
            "Choose: Rock, Paper or Scissors rock\n",
            "Computer chose: Paper\n",
            "Computer wins\n",
            "Do you want to play again? no\n"
          ]
        }
      ]
    },
    {
      "cell_type": "code",
      "source": [
        "input1 = float(input(\"Please select a number: \"))\n",
        "input2 = float(input(\"Please select a second number: \"))\n",
        "symbols = input(\"Select the symbol for the calculation: * , /, +, **, - : \")\n",
        "\n",
        "if symbols == \"*\":\n",
        "  calculation = input1 * input2\n",
        "elif symbols == \"/\":\n",
        "  calculation = input1 / input2\n",
        "elif symbols == \"+\":\n",
        "  calculation = input1 + input2\n",
        "elif symbols == \"**\":\n",
        "  calculation = input1 ** input2\n",
        "else:\n",
        "  calculation = input1 - input2\n",
        "\n",
        "print(calculation)"
      ],
      "metadata": {
        "colab": {
          "base_uri": "https://localhost:8080/"
        },
        "id": "FacyMrVO8qWU",
        "outputId": "a835a693-5625-496c-fb5d-8a1c87dca3ff"
      },
      "execution_count": null,
      "outputs": [
        {
          "output_type": "stream",
          "name": "stdout",
          "text": [
            "Please select a number: 8\n",
            "Please select a second number: 3\n",
            "Select the symbol for the calculation: * , /, +, **, - : +\n",
            "11.0\n"
          ]
        }
      ]
    },
    {
      "cell_type": "code",
      "source": [
        "\n",
        "fee = 5\n",
        "for t in range(1, 9):\n",
        "  each = 2.5 * t\n",
        "  charge = fee + each\n",
        "  if charge < 10.0:\n",
        "    charge = 10.0\n",
        "  elif charge > 20.0:\n",
        "    charge = 20.0\n",
        "  print(t, charge)"
      ],
      "metadata": {
        "id": "jrpHysN29J7E",
        "colab": {
          "base_uri": "https://localhost:8080/"
        },
        "outputId": "5fb0abcc-2128-4e56-dcf1-1e2147c03e27"
      },
      "execution_count": null,
      "outputs": [
        {
          "output_type": "stream",
          "name": "stdout",
          "text": [
            "1 10.0\n",
            "2 10.0\n",
            "3 12.5\n",
            "4 15.0\n",
            "5 17.5\n",
            "6 20.0\n",
            "7 20.0\n",
            "8 20.0\n"
          ]
        }
      ]
    },
    {
      "cell_type": "code",
      "source": [
        "ticket = 10.0\n",
        "attendees = 20.0\n",
        "fixed_cost = 200.0\n",
        "\n",
        "for i in range(0, 201, 25):\n",
        " #i is the adverstising cost\n",
        "  profit = ticket * (attendees + 2 * round(i ** 0.5))- fixed_cost - i\n",
        "  print(i, profit)"
      ],
      "metadata": {
        "colab": {
          "base_uri": "https://localhost:8080/"
        },
        "id": "_Y4VDYFOKhW9",
        "outputId": "a2b47b05-5dcc-4a96-b758-bfa848d6bbd3"
      },
      "execution_count": null,
      "outputs": [
        {
          "output_type": "stream",
          "name": "stdout",
          "text": [
            "0 0.0\n",
            "25 75.0\n",
            "50 90.0\n",
            "75 105.0\n",
            "100 100.0\n",
            "125 95.0\n",
            "150 90.0\n",
            "175 85.0\n",
            "200 80.0\n"
          ]
        }
      ]
    },
    {
      "cell_type": "code",
      "source": [
        "#creates a list\n",
        "#user will give the inputs\n",
        "\n",
        "l = []\n",
        "\n",
        "user_input = int(input(\"Please give a int: \"))\n",
        "\n",
        "while user_input != 0:\n",
        "  l.append(user_input)\n",
        "\n",
        "  print(l)\n",
        "  user_input = int(input(\"Please give a int: \"))\n",
        "print(l)\n"
      ],
      "metadata": {
        "colab": {
          "base_uri": "https://localhost:8080/"
        },
        "id": "wUYMBIadVn2h",
        "outputId": "be632e60-386a-460b-ac6b-aa548d22ad65"
      },
      "execution_count": 6,
      "outputs": [
        {
          "output_type": "stream",
          "name": "stdout",
          "text": [
            "Please give a int: 6\n",
            "[6]\n",
            "Please give a int: 9\n",
            "[6, 9]\n",
            "Please give a int: 0\n",
            "[6, 9]\n"
          ]
        }
      ]
    }
  ]
}