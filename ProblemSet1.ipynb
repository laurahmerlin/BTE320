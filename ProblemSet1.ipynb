{
  "cells": [
    {
      "cell_type": "markdown",
      "metadata": {
        "id": "view-in-github",
        "colab_type": "text"
      },
      "source": [
        "<a href=\"https://colab.research.google.com/github/laurahmerlin/BTE320/blob/main/ProblemSet1.ipynb\" target=\"_parent\"><img src=\"https://colab.research.google.com/assets/colab-badge.svg\" alt=\"Open In Colab\"/></a>"
      ]
    },
    {
      "cell_type": "markdown",
      "metadata": {
        "id": "mqKVIuY-mxNU"
      },
      "source": [
        "# Problem Set 2"
      ]
    },
    {
      "cell_type": "markdown",
      "metadata": {
        "id": "-RSYW1jVm08n"
      },
      "source": [
        "## Assignment 1: Quality Control (7 points)\n",
        "\n",
        "A quality control manager would like to find the average weight of a list of weights. Prior experience indicates that the first two measures are atypical, and the practice is to exclude these from the average calculation.\n",
        "\n",
        "Write a program that calculates the average of a list of numbers that given as inputs from the user, excluding the first three values.\n",
        "\n",
        "For your program, you must define and use the following functions:\n",
        "- `getValues(n)`: Prompt the user for `n` values, returns the list\n",
        "- `calcAverage(alist)`: Calculates the average from the list"
      ]
    },
    {
      "cell_type": "code",
      "execution_count": null,
      "metadata": {
        "colab": {
          "base_uri": "https://localhost:8080/"
        },
        "id": "AqbgJkgNmvQw",
        "outputId": "9de0e89c-176c-427e-be99-ae6bd3c0ba98"
      },
      "outputs": [
        {
          "name": "stdout",
          "output_type": "stream",
          "text": [
            "Enter the number of values of your list : 6\n",
            "Enter a number: 5\n",
            "Enter a number: 3\n",
            "Enter a number: 6\n",
            "Enter a number: 7\n",
            "Enter a number: 8\n",
            "Enter a number: 9\n",
            "The average is 8.0\n"
          ]
        }
      ],
      "source": [
        "def getValues(n):\n",
        "    alist = []\n",
        "    for i in range(n):\n",
        "        x = float(input(\"Enter a number: \")) # will ask how many time the user sets the list to be\n",
        "        alist.append(x)\n",
        "    return alist\n",
        "\n",
        "def calcAverage(alist):\n",
        "    alist = alist[3:]  #discarts the first 3 items\n",
        "    if len(alist) == 0:\n",
        "        return 0\n",
        "    average = sum(alist) / len(alist)\n",
        "    return average\n",
        "\n",
        "n = int(input(\"Enter the number of values of your list : \")) # asks user how many values they want in their list\n",
        "alist = getValues(n)\n",
        "print(f\"The average is {calcAverage(alist)}\")"
      ]
    },
    {
      "cell_type": "markdown",
      "metadata": {
        "id": "QFO0Kzx8ncnv"
      },
      "source": [
        "## Assignment 2: Country Statistics Lookup-Multiple Measures (6 points)\n",
        "\n",
        "Assume a program begins with the statement:\n",
        "\n",
        "```python\n",
        "allData = { # dictionary of values for countries\n",
        "    'US': {'pop':325.7, 'gdp': 19.39, 'ccy': 'USD', 'fx':  1.0},\n",
        "    'CA': {'pop': 36.5, 'gdp':  1.65, 'ccy': 'CAD', 'fx':  1.35},\n",
        "    'MX': {'pop':129.2, 'gdp':  1.15, 'ccy': 'MXN', 'fx': 19.68}\n",
        "    }\n",
        "```\n",
        "\n",
        "Write subsequent statements that (in a loop) prompt the user for a country code (`US`, `CA`, or `MX`), then prompt for a measure name (`pop`, `gdp`, `ccy`, or `fx`), then look up in the above dictionary for the corresponding value, and display it.\n",
        "\n",
        "Example run:\n",
        "```\n",
        "Please enter a country code: CA\n",
        "Please enter a statistic: pop\n",
        "CA pop = 36.5\n",
        "```\n",
        "\n",
        "Your program should handle the cases where a user-entered country code or measure name is not found."
      ]
    },
    {
      "cell_type": "markdown",
      "metadata": {
        "id": "cSjrnq6ISlW_"
      },
      "source": []
    },
    {
      "cell_type": "code",
      "execution_count": 21,
      "metadata": {
        "colab": {
          "base_uri": "https://localhost:8080/"
        },
        "id": "NZFjRINKowEW",
        "outputId": "e4e4a616-5e6d-4c5f-b87e-5d2f8c73464d"
      },
      "outputs": [
        {
          "output_type": "stream",
          "name": "stdout",
          "text": [
            "what country code do you want to lookup?: MX\n",
            "what is the measure name?: ccy\n",
            "MX ccy = MXN\n"
          ]
        }
      ],
      "source": [
        "allData = { # dictionary of values for countries\n",
        "    'US': {'pop':325.7, 'gdp': 19.39, 'ccy': 'USD', 'fx':  1.0},\n",
        "    'CA': {'pop': 36.5, 'gdp':  1.65, 'ccy': 'CAD', 'fx':  1.35},\n",
        "    'MX': {'pop':129.2, 'gdp':  1.15, 'ccy': 'MXN', 'fx': 19.68}\n",
        "    }\n",
        "\n",
        "def getCountry(countryCode):\n",
        "  return countryCode\n",
        "def getMeasureName(measureName):\n",
        "  return measureName\n",
        "\n",
        "def lookUpValue(countryCode, measureName):\n",
        "  if countryCode in allData:\n",
        "    if  measureName in allData[countryCode]:\n",
        "      value = allData[countryCode][measureName]\n",
        "      print(f\"{countryCode} {measureName} = {value}\")\n",
        "    else:\n",
        "      print(\"measure name not in dictionary\")\n",
        "  else:\n",
        "    print(\"country code not in dictionary\")\n",
        "\n",
        "countryCode = input(\"what country code do you want to lookup?: \")\n",
        "measureName = input(\"what is the measure name?: \")\n",
        "lookUpValue(countryCode, measureName)"
      ]
    },
    {
      "cell_type": "markdown",
      "metadata": {
        "id": "kWMI57isTMqi"
      },
      "source": []
    },
    {
      "cell_type": "markdown",
      "metadata": {
        "id": "GjaUFrnfpKFf"
      },
      "source": [
        "## Assignment 3: Parking Garage (6 points)\n",
        "\n",
        "Write a program to compute the fee for parking in a garage for a number of hours.\n",
        "\n",
        "The program should:\n",
        "- Prompt the user for how many hours parked\n",
        "- Calculate the fee based on the following rules:\n",
        "  - $2.50/hour\n",
        "\n",
        "  - minimum fee is $6.00\n",
        "\n",
        "  - maximum fee is $20.00\n",
        "- Print the result\n",
        "\n",
        "For your program, define and use the following two functions:\n",
        "```python\n",
        "# use input() to prompt for the # of hours parked, return this value\n",
        "def getParkingHours()\n",
        "\n",
        "# takes as input hours (a number), returns the parking fee\n",
        "def calcParkingFee()\n",
        "```"
      ]
    },
    {
      "cell_type": "code",
      "execution_count": null,
      "metadata": {
        "colab": {
          "base_uri": "https://localhost:8080/",
          "height": 52
        },
        "id": "5ha4O3V5pwNN",
        "outputId": "d13593e5-0b5e-43ee-f08a-6d119fcc1b12"
      },
      "outputs": [
        {
          "name": "stdout",
          "output_type": "stream",
          "text": [
            "How many hours parked? 4\n"
          ]
        },
        {
          "data": {
            "application/vnd.google.colaboratory.intrinsic+json": {
              "type": "string"
            },
            "text/plain": [
              "'fee: 10.0'"
            ]
          },
          "execution_count": 10,
          "metadata": {},
          "output_type": "execute_result"
        }
      ],
      "source": [
        "def getParkingHours(parkingHours):\n",
        "  return parkingHours\n",
        "\n",
        "def calcParkingFee():\n",
        "  fee = 2.50 * (parkingHours)\n",
        "\n",
        "  if fee in range(6, 21):\n",
        "    fee = 2.50 * (parkingHours)\n",
        "    return f\"fee: {fee}\"\n",
        "  else:\n",
        "    print(\"Hours entered not valid\")\n",
        "\n",
        "parkingHours = int(input(\"How many hours parked? \"))\n",
        "getParkingHours(parkingHours)\n",
        "calcParkingFee()"
      ]
    },
    {
      "cell_type": "markdown",
      "metadata": {
        "id": "gipBObe5qm-2"
      },
      "source": [
        "## Assignment 4: Tuition (6 points)\n",
        "\n",
        "A college charges tuition according to the following:\n",
        "- 12 or more credits: $20,000/semester\n",
        "\n",
        "- 1-11 credits: $1,200 + $1,700 per credit\n",
        "\n",
        "Write a program that prompts the user for a number of credits and determines and displays the tuition for the semester. As part of your program, define and use the following function:\n",
        "```python\n",
        "def calcTuition(credits)\n",
        "```\n",
        "The function returns the tuition for a given number of credits"
      ]
    },
    {
      "cell_type": "code",
      "execution_count": null,
      "metadata": {
        "colab": {
          "base_uri": "https://localhost:8080/"
        },
        "id": "BPcn9ywzrL8y",
        "outputId": "8c414d4c-907e-4bac-bfb2-30c12a8a9a0f"
      },
      "outputs": [
        {
          "name": "stdout",
          "output_type": "stream",
          "text": [
            "How many credits are you taking? 12\n",
            "Your tuition is: $20000\n"
          ]
        }
      ],
      "source": [
        "def calcTution(credits):\n",
        "\n",
        "  if credits >= 12:\n",
        "    return 20000\n",
        "  else:\n",
        "    return 1200 + (credits * 1700)\n",
        "\n",
        "user_input = int(input(\"How many credits are you taking? \"))\n",
        "print(f\"Your tuition is: ${calcTution(user_input)}\")\n"
      ]
    }
  ],
  "metadata": {
    "colab": {
      "provenance": [],
      "include_colab_link": true
    },
    "kernelspec": {
      "display_name": "Python 3",
      "name": "python3"
    },
    "language_info": {
      "name": "python"
    }
  },
  "nbformat": 4,
  "nbformat_minor": 0
}